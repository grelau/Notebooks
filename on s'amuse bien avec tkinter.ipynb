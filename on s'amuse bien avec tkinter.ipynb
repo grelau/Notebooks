{
 "cells": [
  {
   "cell_type": "code",
   "execution_count": 2,
   "metadata": {},
   "outputs": [],
   "source": [
    "from tkinter import *"
   ]
  },
  {
   "cell_type": "code",
   "execution_count": 5,
   "metadata": {},
   "outputs": [
    {
     "name": "stdout",
     "output_type": "stream",
     "text": [
      "\n"
     ]
    }
   ],
   "source": [
    "fenetre = Tk()\n",
    "text = Label(fenetre, text = \"coucou ya du texte la non?\")\n",
    "text.pack()\n",
    "#bouton_quitter = Button(fenetre, text = \"Quitter\", command = fenetre.quit)\n",
    "#bouton_quitter.pack()\n",
    "var_texte = StringVar()\n",
    "ligne_texte = Entry(fenetre, textvariable=var_texte, width=30)\n",
    "ligne_texte.pack()\n",
    "\n",
    "var_case = IntVar()\n",
    "case = Checkbutton(fenetre, text=\"Ne plus poser cette question\", variable=var_case)\n",
    "case.pack()\n",
    "oui=var_case.get()\n",
    "\n",
    "var_choix = StringVar()\n",
    "choix_rouge = Radiobutton(fenetre, text=\"Rouge\", variable=var_choix, value=\"rouge\")\n",
    "choix_vert = Radiobutton(fenetre, text=\"Vert\", variable=var_choix, value=\"vert\")\n",
    "choix_bleu = Radiobutton(fenetre, text=\"Bleu\", variable=var_choix, value=\"bleu\")\n",
    "choix_rouge.pack()\n",
    "choix_vert.pack()\n",
    "choix_bleu.pack()\n",
    "choix = var_choix.get()\n",
    "print(choix)\n",
    "\n",
    "liste = Listbox(fenetre)\n",
    "liste.pack()\n",
    "liste.insert(END, \"Pierre\")\n",
    "liste.insert(END, \"Feuille\")\n",
    "liste.insert(END, \"Ciseau\")\n",
    "\n",
    "cadre = Frame(fenetre, width=68, height=56, borderwidth=1)\n",
    "cadre.pack(fill=BOTH)\n",
    "message = Label(cadre, text=\"Notre fenêtre\")\n",
    "message.pack(side=\"left\", fill=X)\n",
    "\n",
    "fenetre.mainloop()"
   ]
  },
  {
   "cell_type": "code",
   "execution_count": 44,
   "metadata": {},
   "outputs": [
    {
     "data": {
      "text/plain": [
       "''"
      ]
     },
     "execution_count": 44,
     "metadata": {},
     "output_type": "execute_result"
    }
   ],
   "source": [
    "choix"
   ]
  }
 ],
 "metadata": {
  "kernelspec": {
   "display_name": "Python 3",
   "language": "python",
   "name": "python3"
  },
  "language_info": {
   "codemirror_mode": {
    "name": "ipython",
    "version": 3
   },
   "file_extension": ".py",
   "mimetype": "text/x-python",
   "name": "python",
   "nbconvert_exporter": "python",
   "pygments_lexer": "ipython3",
   "version": "3.7.2"
  }
 },
 "nbformat": 4,
 "nbformat_minor": 2
}
