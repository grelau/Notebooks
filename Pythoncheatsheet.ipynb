{
 "cells": [
  {
   "cell_type": "markdown",
   "metadata": {},
   "source": [
    "# Variables"
   ]
  },
  {
   "cell_type": "code",
   "execution_count": null,
   "metadata": {},
   "outputs": [],
   "source": []
  },
  {
   "cell_type": "code",
   "execution_count": null,
   "metadata": {},
   "outputs": [],
   "source": [
    "#BASES\n",
    "booleen : bool = 0/1 = True/False\n",
    "chaine de caractere : str : 'mot'\n",
    "assigner une valeur : =\n",
    "entier : int\n",
    "decimaux : float\n",
    "\n",
    "liste : list : []\n",
    "dictionnaires : dict : {key:value}\n",
    "\n",
    "in\n",
    "not in\n",
    "..."
   ]
  },
  {
   "cell_type": "code",
   "execution_count": 1,
   "metadata": {},
   "outputs": [],
   "source": [
    "integer, flt = 5, 6.54 #tuples"
   ]
  },
  {
   "cell_type": "code",
   "execution_count": 2,
   "metadata": {},
   "outputs": [
    {
     "name": "stdout",
     "output_type": "stream",
     "text": [
      "8\n",
      "10\n",
      "[4, 6, 8, 10, 11]\n",
      "[4, 6, 8, 10]\n",
      "[4, 0, 8, 10]\n"
     ]
    }
   ],
   "source": [
    "lst = [4,6,8,10] #LISTES\n",
    "print(lst[2])  #affiche le 3e élément de lst\n",
    "print(lst[-1]) # le \"-\" permet de parcourir la liste en sens inverse -1 = dernier élément de la liste\n",
    "lst.append(11) #Ajoute 11 à la fin de la liste\n",
    "print(lst)     #Affiche la liste\n",
    "element_pop = lst.pop(4) #retire l element de la liste entré en parametres\n",
    "element_pop\n",
    "print(lst)\n",
    "lst[1] = 0     # Remplace l'element en Position 1 par 0\n",
    "print(lst)"
   ]
  },
  {
   "cell_type": "code",
   "execution_count": 15,
   "metadata": {},
   "outputs": [
    {
     "name": "stdout",
     "output_type": "stream",
     "text": [
      "{'oui': True, 'non': 5.4, 'eventuellement': 56}\n"
     ]
    }
   ],
   "source": [
    "#Dictionnaires\n",
    "\n",
    "dictionnaires se fait comme ceci :    dict = {key:value} OU pour rajouter une valeur : dct['eventuellement'] = 56\n",
    "\n",
    "dct = {'oui': True,\n",
    "       'non': 5.4}\n",
    "dct['eventuellement'] = 56\n",
    "print(dct)"
   ]
  },
  {
   "cell_type": "code",
   "execution_count": 17,
   "metadata": {},
   "outputs": [],
   "source": [
    "#set\n",
    "pour le moment ya rien frr"
   ]
  },
  {
   "cell_type": "markdown",
   "metadata": {},
   "source": [
    "# CLASSES"
   ]
  },
  {
   "cell_type": "code",
   "execution_count": 27,
   "metadata": {},
   "outputs": [
    {
     "name": "stdout",
     "output_type": "stream",
     "text": [
      "45\n",
      "46\n",
      "1 personnes ont été crées\n",
      "bonjour\n"
     ]
    }
   ],
   "source": [
    "#Class\n",
    "\n",
    "#Une classe est un objet qui a des attributs qu il legera \n",
    "#à toutes les classes filles qui hériteront de ses attributs, méthodes ...etc\n",
    "\n",
    "class Personne:\n",
    "    \"\"\"Classe définissant une personne caractérisée par :\n",
    "    - son nom\n",
    "    - son prénom\n",
    "    - son âge\n",
    "    - son lieu de résidence\"\"\"\n",
    "    personnes_crees = 0\n",
    "    \n",
    "    def __init__(self, nom, prenom, age, lieu_residence):\n",
    "        \"\"\"Constructeur de notre classe\"\"\"\n",
    "        self.nom = nom\n",
    "        self.prenom = prenom\n",
    "        self.age = age\n",
    "        self.lieu_residence = lieu_residence\n",
    "        Personne.personnes_crees += 1\n",
    "    \n",
    "    def get_older(self): #methode d'instance\n",
    "        self.age += 1\n",
    "    \n",
    "    def combien(cls): #methode de classe\n",
    "        print('{0} personnes ont été crées'.format(cls.personnes_crees))\n",
    "    combien = classmethod(combien)\n",
    "    \n",
    "    def bonjour(): #methode statique\n",
    "        print(\"bonjour\")\n",
    "    bonjour = staticmethod(bonjour)\n",
    "\n",
    "Hubert = Personne(\"Bonnisseur Delabatte\", \"Hubert\", 45, \"Le Caire\")   #Creation de la premiere classe personne\n",
    "print(Hubert.age)\n",
    "Hubert.get_older()\n",
    "print(Hubert.age)\n",
    "\n",
    "Personne.combien()\n",
    "Personne.bonjour()"
   ]
  },
  {
   "cell_type": "code",
   "execution_count": null,
   "metadata": {},
   "outputs": [],
   "source": [
    "#héritage\n",
    "class sous_per(Personne):\n",
    "    def addtional_attribute(self, oui):\n",
    "        self.oui = oui"
   ]
  },
  {
   "cell_type": "code",
   "execution_count": null,
   "metadata": {},
   "outputs": [],
   "source": [
    "#Accesseur Mutateur cf OpenClassroom\n",
    "class Personne:\n",
    "    \"\"\"Classe définissant une personne caractérisée par :\n",
    "    - son nom ;\n",
    "    - son prénom ;\n",
    "    - son âge ;\n",
    "    - son lieu de résidence\"\"\"\n",
    "\n",
    "    \n",
    "    def __init__(self, nom, prenom):\n",
    "        \"\"\"Constructeur de notre classe\"\"\"\n",
    "        self.nom = nom\n",
    "        self.prenom = prenom\n",
    "        self.age = 33\n",
    "        self._lieu_residence = \"Paris\" # Notez le souligné _ devant le nom\n",
    "    def _get_lieu_residence(self):\n",
    "    \"\"\"Méthode qui sera appelée quand on souhaitera accéder en lecture\n",
    "        à l'attribut 'lieu_residence'\"\"\"\n",
    "        \n",
    "        \n",
    "        print(\"On accède à l'attribut lieu_residence !\")\n",
    "        return self._lieu_residence\n",
    "    def _set_lieu_residence(self, nouvelle_residence):\n",
    "        \"\"\"Méthode appelée quand on souhaite modifier le lieu de résidence\"\"\"\n",
    "        print(\"Attention, il semble que {} déménage à {}.\".format( \\\n",
    "                self.prenom, nouvelle_residence))\n",
    "        self._lieu_residence = nouvelle_residence\n",
    "    # On va dire à Python que notre attribut lieu_residence pointe vers une\n",
    "    # propriété\n",
    "    lieu_residence = property(_get_lieu_residence, _set_lieu_residence)  #si on enleve set, le lieu ne sera pas modifiable, idem pour get: on ne pourra pas y acceder"
   ]
  },
  {
   "cell_type": "code",
   "execution_count": 28,
   "metadata": {},
   "outputs": [
    {
     "data": {
      "text/plain": [
       "['__class__',\n",
       " '__delattr__',\n",
       " '__dict__',\n",
       " '__dir__',\n",
       " '__doc__',\n",
       " '__eq__',\n",
       " '__format__',\n",
       " '__ge__',\n",
       " '__getattribute__',\n",
       " '__gt__',\n",
       " '__hash__',\n",
       " '__init__',\n",
       " '__init_subclass__',\n",
       " '__le__',\n",
       " '__lt__',\n",
       " '__module__',\n",
       " '__ne__',\n",
       " '__new__',\n",
       " '__reduce__',\n",
       " '__reduce_ex__',\n",
       " '__repr__',\n",
       " '__setattr__',\n",
       " '__sizeof__',\n",
       " '__str__',\n",
       " '__subclasshook__',\n",
       " '__weakref__',\n",
       " 'age',\n",
       " 'bonjour',\n",
       " 'combien',\n",
       " 'get_older',\n",
       " 'lieu_residence',\n",
       " 'nom',\n",
       " 'personnes_crees',\n",
       " 'prenom']"
      ]
     },
     "execution_count": 28,
     "metadata": {},
     "output_type": "execute_result"
    }
   ],
   "source": [
    "dir(person1) #affiche toutes les méthodes de la classe"
   ]
  },
  {
   "cell_type": "code",
   "execution_count": 30,
   "metadata": {},
   "outputs": [
    {
     "data": {
      "text/plain": [
       "{'nom': 'Bonnisseur Delabatte',\n",
       " 'prenom': 'Hubert',\n",
       " 'age': 46,\n",
       " 'lieu_residence': 'Le Caire'}"
      ]
     },
     "execution_count": 30,
     "metadata": {},
     "output_type": "execute_result"
    }
   ],
   "source": [
    "Hubert.__dict__"
   ]
  },
  {
   "cell_type": "markdown",
   "metadata": {},
   "source": [
    "# CONDITIONS/BOUCLES/TRY"
   ]
  },
  {
   "cell_type": "code",
   "execution_count": 13,
   "metadata": {},
   "outputs": [
    {
     "name": "stdout",
     "output_type": "stream",
     "text": [
      "itération: 1\n",
      "impair\n",
      "itération: 2\n",
      "paire\n",
      "itération: 3\n",
      "impair\n",
      "itération: 4\n",
      "paire\n",
      "itération: 5\n",
      "impair\n",
      "itération: 6\n",
      "paire\n",
      "itération: 7\n",
      "impair\n",
      "itération: 8\n",
      "paire\n",
      "itération: 9\n",
      "impair\n"
     ]
    }
   ],
   "source": [
    "boucles : while, for\n",
    "test if/else: |      &    or    and : == : !=  : > : >= : < : <=\n",
    "    \n",
    "#Avec comme exemples d'utilisation :\n",
    "\n",
    "i = 1\n",
    "while i < 10:\n",
    "    print(\"itération: {}\".format(str(i)))\n",
    "    if i%2 == 0:\n",
    "        print(\"paire\")\n",
    "    elif i%2 == 1:\n",
    "        print(\"impair\")\n",
    "    else: \n",
    "        print(\"Jean Marie Bigard est drôle\")\n",
    "    i +=1   "
   ]
  },
  {
   "cell_type": "code",
   "execution_count": 14,
   "metadata": {},
   "outputs": [
    {
     "name": "stdout",
     "output_type": "stream",
     "text": [
      "itération: 0\n",
      "paire\n",
      "itération: 1\n",
      "impair\n",
      "itération: 2\n",
      "paire\n",
      "itération: 3\n",
      "impair\n",
      "itération: 4\n",
      "paire\n",
      "itération: 5\n",
      "impair\n",
      "itération: 6\n",
      "paire\n",
      "itération: 7\n",
      "impair\n",
      "itération: 8\n",
      "paire\n",
      "itération: 9\n",
      "impair\n"
     ]
    }
   ],
   "source": [
    "for i in range(0, 10):\n",
    "    print(\"itération: {}\".format(str(i)))\n",
    "    if i%2 == 0:\n",
    "        print(\"paire\")\n",
    "    elif i%2 == 1:\n",
    "        print(\"impair\")\n",
    "    else:\n",
    "        print(\"Jean Marie Bigard est drôle\")"
   ]
  },
  {
   "cell_type": "code",
   "execution_count": 31,
   "metadata": {},
   "outputs": [
    {
     "name": "stdout",
     "output_type": "stream",
     "text": [
      "[11, 22, 33, 44, 55, 66, 77, 88, 99, 110]\n",
      "[22, 44, 66, 88, 110]\n"
     ]
    }
   ],
   "source": [
    "#compréhension de listes\n",
    "lst = [i*11 for i in range(1,11)]\n",
    "print(lst)\n",
    "lst = [i*11 for i in range(1,11) if i%2 == 0]\n",
    "print(lst)"
   ]
  },
  {
   "cell_type": "code",
   "execution_count": 40,
   "metadata": {},
   "outputs": [
    {
     "name": "stdout",
     "output_type": "stream",
     "text": [
      "Magie\n"
     ]
    }
   ],
   "source": [
    "try:\n",
    "    La-normalement-ça-marche-pas\n",
    "    mais_vu_que_tu_as_un_try_ça_passe\n",
    "except:\n",
    "    print(\"Magie\")\n",
    "#On peut préciser les erreur par ex: except FileNotFound etc..."
   ]
  },
  {
   "cell_type": "markdown",
   "metadata": {},
   "source": [
    "# LIBRAIRIES"
   ]
  },
  {
   "cell_type": "markdown",
   "metadata": {},
   "source": [
    "# NUMPY"
   ]
  },
  {
   "cell_type": "code",
   "execution_count": 2,
   "metadata": {},
   "outputs": [],
   "source": [
    "import numpy as np"
   ]
  },
  {
   "cell_type": "code",
   "execution_count": 42,
   "metadata": {},
   "outputs": [
    {
     "data": {
      "text/plain": [
       "array([1, 2, 3])"
      ]
     },
     "execution_count": 42,
     "metadata": {},
     "output_type": "execute_result"
    }
   ],
   "source": [
    "my_list = [1,2,3]\n",
    "np.array(my_list)"
   ]
  },
  {
   "cell_type": "code",
   "execution_count": 43,
   "metadata": {},
   "outputs": [
    {
     "data": {
      "text/plain": [
       "array([[1, 2, 3],\n",
       "       [4, 5, 6],\n",
       "       [7, 8, 9]])"
      ]
     },
     "execution_count": 43,
     "metadata": {},
     "output_type": "execute_result"
    }
   ],
   "source": [
    "my_matrix = [[1,2,3],[4,5,6],[7,8,9]]\n",
    "np.array(my_matrix)"
   ]
  },
  {
   "cell_type": "code",
   "execution_count": 3,
   "metadata": {},
   "outputs": [
    {
     "data": {
      "text/plain": [
       "array([[0., 0., 0., 0., 0., 0., 0., 0., 0., 0., 0., 0., 0., 0., 0., 0.,\n",
       "        0., 0., 0., 0.],\n",
       "       [0., 0., 0., 0., 0., 0., 0., 0., 0., 0., 0., 0., 0., 0., 0., 0.,\n",
       "        0., 0., 0., 0.]])"
      ]
     },
     "execution_count": 3,
     "metadata": {},
     "output_type": "execute_result"
    }
   ],
   "source": [
    "oui = np.zeros(shape = (2,20))\n",
    "oui"
   ]
  },
  {
   "cell_type": "code",
   "execution_count": 44,
   "metadata": {},
   "outputs": [
    {
     "data": {
      "text/plain": [
       "array([0, 1, 2, 3, 4, 5, 6, 7, 8, 9])"
      ]
     },
     "execution_count": 44,
     "metadata": {},
     "output_type": "execute_result"
    }
   ],
   "source": [
    "np.arange(0,10)"
   ]
  },
  {
   "cell_type": "code",
   "execution_count": 45,
   "metadata": {},
   "outputs": [
    {
     "data": {
      "text/plain": [
       "array([ 0,  2,  4,  6,  8, 10])"
      ]
     },
     "execution_count": 45,
     "metadata": {},
     "output_type": "execute_result"
    }
   ],
   "source": [
    "np.arange(0,11,2)"
   ]
  },
  {
   "cell_type": "code",
   "execution_count": 4,
   "metadata": {},
   "outputs": [
    {
     "data": {
      "text/plain": [
       "array([ 0. ,  2.4,  4.8,  7.2,  9.6, 12. ])"
      ]
     },
     "execution_count": 4,
     "metadata": {},
     "output_type": "execute_result"
    }
   ],
   "source": [
    "np.linspace(0,12,6)"
   ]
  },
  {
   "cell_type": "code",
   "execution_count": 47,
   "metadata": {},
   "outputs": [
    {
     "data": {
      "text/plain": [
       "array([0.56435195, 0.48425284])"
      ]
     },
     "execution_count": 47,
     "metadata": {},
     "output_type": "execute_result"
    }
   ],
   "source": [
    "np.random.rand(2) #rand = distribution uniforme entre 0 et 1 exclu"
   ]
  },
  {
   "cell_type": "code",
   "execution_count": 49,
   "metadata": {},
   "outputs": [
    {
     "data": {
      "text/plain": [
       "array([[0.89369688, 0.45647965, 0.33631362, 0.63448416, 0.37807634],\n",
       "       [0.51792714, 0.62704815, 0.934366  , 0.94412647, 0.22928539],\n",
       "       [0.05846204, 0.30058333, 0.43094527, 0.2730811 , 0.01122991],\n",
       "       [0.17741927, 0.39386487, 0.32232717, 0.75145825, 0.87516663],\n",
       "       [0.58134119, 0.52101885, 0.79627246, 0.30163392, 0.38504554]])"
      ]
     },
     "execution_count": 49,
     "metadata": {},
     "output_type": "execute_result"
    }
   ],
   "source": [
    "np.random.rand(5,5)"
   ]
  },
  {
   "cell_type": "code",
   "execution_count": 51,
   "metadata": {},
   "outputs": [
    {
     "data": {
      "text/plain": [
       "array([[-0.15624658, -0.96259182, -1.16036812, -1.21701294,  0.55647   ],\n",
       "       [ 0.60921366, -0.82357013,  0.6178268 ,  0.73124755,  0.88424064],\n",
       "       [ 0.0382265 , -0.20900484,  1.08083492,  0.01922942, -1.04486756],\n",
       "       [ 0.76738616, -1.86128161, -0.26439617,  1.91000445, -0.67065013],\n",
       "       [-0.35899453, -0.15301589,  1.10936214,  0.43022983, -0.85907555]])"
      ]
     },
     "execution_count": 51,
     "metadata": {},
     "output_type": "execute_result"
    }
   ],
   "source": [
    "np.random.randn(5,5) #randn = loi normale"
   ]
  },
  {
   "cell_type": "code",
   "execution_count": 52,
   "metadata": {},
   "outputs": [
    {
     "data": {
      "text/plain": [
       "12"
      ]
     },
     "execution_count": 52,
     "metadata": {},
     "output_type": "execute_result"
    }
   ],
   "source": [
    "np.random.randint(1,100)"
   ]
  },
  {
   "cell_type": "code",
   "execution_count": 53,
   "metadata": {},
   "outputs": [
    {
     "data": {
      "text/plain": [
       "array([90, 67, 27, 51, 90, 97, 54, 69,  9, 75])"
      ]
     },
     "execution_count": 53,
     "metadata": {},
     "output_type": "execute_result"
    }
   ],
   "source": [
    "np.random.randint(1,100, 10)"
   ]
  },
  {
   "cell_type": "code",
   "execution_count": 72,
   "metadata": {},
   "outputs": [
    {
     "data": {
      "text/plain": [
       "array([[29069, 39870, 59148, 28577, 97617],\n",
       "       [ 1202, 35784, 79940, 23146, 37362],\n",
       "       [14676,  1399, 12995, 67026, 85012],\n",
       "       [ 5711, 63581, 38152, 78080, 45031],\n",
       "       [79215, 65007,  6863, 84488, 74175]])"
      ]
     },
     "execution_count": 72,
     "metadata": {},
     "output_type": "execute_result"
    }
   ],
   "source": [
    "arr = np.random.randint(0, 100100, 25)\n",
    "arr = arr.reshape(5,5)\n",
    "arr"
   ]
  },
  {
   "cell_type": "code",
   "execution_count": 71,
   "metadata": {},
   "outputs": [
    {
     "name": "stdout",
     "output_type": "stream",
     "text": [
      "98074\n",
      "6\n",
      "3074\n",
      "8\n"
     ]
    },
    {
     "data": {
      "text/plain": [
       "(5, 5)"
      ]
     },
     "execution_count": 71,
     "metadata": {},
     "output_type": "execute_result"
    }
   ],
   "source": [
    "print(arr.max())\n",
    "print(arr.argmax())\n",
    "print(arr.min())\n",
    "print(arr.argmin())\n",
    "arr.shape"
   ]
  },
  {
   "cell_type": "code",
   "execution_count": 79,
   "metadata": {},
   "outputs": [
    {
     "name": "stdout",
     "output_type": "stream",
     "text": [
      "[ 0  2  4  6  8 10 12 14 16 18]\n",
      "[0 0 0 0 0 0 0 0 0 0]\n",
      "[ 0  1  4  9 16 25 36 49 64 81]\n",
      "[nan  1.  1.  1.  1.  1.  1.  1.  1.  1.]\n",
      "[       inf 1.         0.5        0.33333333 0.25       0.2\n",
      " 0.16666667 0.14285714 0.125      0.11111111]\n",
      "[  0   1   8  27  64 125 216 343 512 729]\n"
     ]
    },
    {
     "name": "stderr",
     "output_type": "stream",
     "text": [
      "C:\\Users\\grego\\Anaconda3\\lib\\site-packages\\ipykernel_launcher.py:5: RuntimeWarning: invalid value encountered in true_divide\n",
      "  \"\"\"\n",
      "C:\\Users\\grego\\Anaconda3\\lib\\site-packages\\ipykernel_launcher.py:6: RuntimeWarning: divide by zero encountered in true_divide\n",
      "  \n"
     ]
    }
   ],
   "source": [
    "arr = np.arange(0,10)\n",
    "print(arr + arr)\n",
    "print(arr - arr)\n",
    "print(arr * arr)\n",
    "print(arr / arr) #dicision par zero = Nan\n",
    "print(1/arr)\n",
    "print(arr**3)"
   ]
  },
  {
   "cell_type": "code",
   "execution_count": 81,
   "metadata": {},
   "outputs": [
    {
     "name": "stdout",
     "output_type": "stream",
     "text": [
      "[      -inf 0.         0.69314718 1.09861229 1.38629436 1.60943791\n",
      " 1.79175947 1.94591015 2.07944154 2.19722458]\n",
      "[0.         1.         1.41421356 1.73205081 2.         2.23606798\n",
      " 2.44948974 2.64575131 2.82842712 3.        ]\n"
     ]
    },
    {
     "name": "stderr",
     "output_type": "stream",
     "text": [
      "C:\\Users\\grego\\Anaconda3\\lib\\site-packages\\ipykernel_launcher.py:2: RuntimeWarning: divide by zero encountered in log\n",
      "  \n"
     ]
    }
   ],
   "source": [
    "#toutes les fonctions universelles sont dispos\n",
    "print(np.log(arr))\n",
    "print(np.sqrt(arr))"
   ]
  },
  {
   "cell_type": "markdown",
   "metadata": {},
   "source": [
    "# PANDAS"
   ]
  },
  {
   "cell_type": "code",
   "execution_count": 88,
   "metadata": {},
   "outputs": [
    {
     "data": {
      "text/html": [
       "<div>\n",
       "<style scoped>\n",
       "    .dataframe tbody tr th:only-of-type {\n",
       "        vertical-align: middle;\n",
       "    }\n",
       "\n",
       "    .dataframe tbody tr th {\n",
       "        vertical-align: top;\n",
       "    }\n",
       "\n",
       "    .dataframe thead th {\n",
       "        text-align: right;\n",
       "    }\n",
       "</style>\n",
       "<table border=\"1\" class=\"dataframe\">\n",
       "  <thead>\n",
       "    <tr style=\"text-align: right;\">\n",
       "      <th></th>\n",
       "      <th>col1</th>\n",
       "      <th>col2</th>\n",
       "    </tr>\n",
       "  </thead>\n",
       "  <tbody>\n",
       "    <tr>\n",
       "      <th>0</th>\n",
       "      <td>1</td>\n",
       "      <td>3</td>\n",
       "    </tr>\n",
       "    <tr>\n",
       "      <th>1</th>\n",
       "      <td>2</td>\n",
       "      <td>4</td>\n",
       "    </tr>\n",
       "  </tbody>\n",
       "</table>\n",
       "</div>"
      ],
      "text/plain": [
       "   col1  col2\n",
       "0     1     3\n",
       "1     2     4"
      ]
     },
     "execution_count": 88,
     "metadata": {},
     "output_type": "execute_result"
    }
   ],
   "source": [
    "import pandas as pd\n",
    "dataset = pd.read_csv(\"../Documents/titanic/train.csv\") #lire un dataframe\n",
    "dataset2 = pd.DataFrame(columns=['1stcol', '2ndcol'])\n",
    "dataset2 = pd.DataFrame({'col1': [1, 2], 'col2': [3, 4]})\n",
    "dataset2\n",
    "\n",
    "# PANDAS : manipuler des DataFrames\n",
    "\n",
    "['NomDeColonne'] : array\n",
    "[['NomDeColonne']] : DataFrame\n",
    "df.head(6) : renvoie les 6 premieres lignes du df\n",
    "pd.concat(df1, df2)\n",
    "df.drop(['colonne1', 'colonne2']) : retire une colonne de df\n",
    "df.nomColonne.fillna(45) : remplace les nan par 45 dans la colonne du df\n",
    "df.colonne.unique() : donne chq valeur de la colonne\n",
    "astype() : change le type de valeur\n",
    "isna() : renvoie True  pour chq nan dans la colonne\n",
    "df.loc(test_Conditionnel, ...) renvoie les rows du df respectant la condition\n",
    "df.iloc : prend index, renvoie la ligne du df\n",
    "get_dummies : One_Hot_Encoding\n",
    "    \n",
    "    \n",
    "https://pandas.pydata.org/pandas-docs/stable/"
   ]
  },
  {
   "cell_type": "markdown",
   "metadata": {},
   "source": [
    "# MATPLOTLIB"
   ]
  },
  {
   "cell_type": "code",
   "execution_count": 85,
   "metadata": {},
   "outputs": [],
   "source": [
    "from matplotlib import pyplot as plt\n",
    "plt.plot(x, y) #droite\n",
    "plt.scatter(x, y) #nuage de points\n",
    "plt.bar(x, y) #histogramme\n",
    "plt.pie(x, y) #camembert\n",
    "\n",
    "#ajouter des labels\n",
    "plt.xlabel(\"xlabel\")\n",
    "plt.ylabel(\"ylabel\")\n",
    "\n",
    "\n",
    "#subplots\n",
    "plt.figure()\n",
    "plt.scatter(x1, y1)\n",
    "plt.title(\"GRAPH_1\")\n",
    "plt.figure()\n",
    "plt.bar(x2, y2)\n",
    "plt.title(\"GRAPH_2\")\n",
    "\n",
    "OU\n",
    "\n",
    "for machin in machins:\n",
    "    plt.scatter(dataset2['normalized_age'], dataset2['normalized_salary'], c = labels, s=15, cmap='gist_rainbow') #s = taille des points\n",
    "    plt.show()\n",
    "\n",
    "#A ajouter: multilines plot, legend, 3Dplots et autres\n",
    "\n",
    "#3D\n",
    "from mpl_toolkits.mplot3d import Axes3D\n",
    "fig = plt.figure()\n",
    "ax = plt.axes(projection='3d')\n",
    "\n",
    "z = np.linspace(0, 1, 100)\n",
    "x = z * np.sin(20 * z)\n",
    "y = z * np.cos(20 * z)\n",
    "\n",
    "c = x + y\n",
    "\n",
    "ax.scatter(x, y, z, c=c)"
   ]
  },
  {
   "cell_type": "markdown",
   "metadata": {},
   "source": [
    "# REGEX"
   ]
  },
  {
   "cell_type": "code",
   "execution_count": 106,
   "metadata": {},
   "outputs": [
    {
     "name": "stdout",
     "output_type": "stream",
     "text": [
      "True\n",
      "False\n"
     ]
    },
    {
     "data": {
      "text/plain": [
       "\"<re.Match object; span=(0, 3), match='oui'>\""
      ]
     },
     "execution_count": 106,
     "metadata": {},
     "output_type": "execute_result"
    }
   ],
   "source": [
    "import re\n",
    "string = \"oui, oui, oui, oui ,oui\"\n",
    "re.findall(r'\\w+', string)\n",
    "find_or_not = bool(re.match(r'oui', string))\n",
    "print(find_or_not)\n",
    "find_or_not = bool(re.match(r'non', string))\n",
    "print(find_or_not)\n",
    "re.search('oui', string)\n",
    "\n",
    "\n",
    "^ : debut de chaîne\n",
    "$ : fin de chaine\n",
    "\\. : echappement du caractere .\n",
    "\\d\n",
    "\\D\n",
    "[A-Z]\n",
    "[0-9]\n",
    "+\n",
    "*\n",
    "(?=) : Lookahead\n",
    "(?<=) : Lookbehind\n",
    "(?!) : negative Lookahead\n",
    "(?<!) : negative Lookbehind\n",
    "http://regex101.com/"
   ]
  },
  {
   "cell_type": "markdown",
   "metadata": {},
   "source": [
    "# SKLEARN"
   ]
  },
  {
   "cell_type": "code",
   "execution_count": null,
   "metadata": {},
   "outputs": [],
   "source": [
    "from sklearn.model_selection import train_test_split\n",
    "from sklearn.metrics import classification_report\n",
    "from sklearn.metrics import confusion_matrix\n",
    "from sklearn import tree\n",
    "from sklearn.svm import SVC\n",
    "\n",
    "#Pour le machine Learning\n",
    "\n",
    "#X_train = df_train[['ValeurPredictive1', 'ValeurPredictive2', 'ValeurPredictive3']]\n",
    "#X_train = pd.get_dummies(data=X_train)\n",
    "\n",
    "#X_test = df_test[['ValeurPredictive1', 'ValeurPredictive2', 'ValeurPredictive3']] : DONNEES REELLES\n",
    "\n",
    "#y_train = df_train[['MaValeurAPredire']]\n",
    "\n",
    "#clf = SVC(gamma='auto')\n",
    "#clf = clf.fit(X_train, y_train) \n",
    "#y_pred = clf.predict(X_test)\n",
    "\n",
    "#clf = tree.DecisionTreeClassifier()\n",
    "#clf = clf.fit(X_train, y_train)\n",
    "#y_pred = clf.predict(X_test)\n",
    "\n",
    "#logistic_regr = LogisticRegression()\n",
    "#logistic_regr.fit(X_train, y_train)\n",
    "#y_pred = logistic_regr.predict(X_test)\n",
    "\n",
    "#y_pred = logistic_regr.predict(X_test)\n",
    "#confusion_matr = confusion_matrix(y_test, y_pred)\n",
    "\n",
    "\n",
    "#metrics.auc(x, y[, reorder])\n",
    "#metrics.confusion_matrix(y_true, y_pred[, …])"
   ]
  },
  {
   "cell_type": "markdown",
   "metadata": {},
   "source": [
    "# SELENIUM/ BEAUTIFULSOUP"
   ]
  },
  {
   "cell_type": "code",
   "execution_count": null,
   "metadata": {},
   "outputs": [],
   "source": [
    "# SCRAPPING : BeautifulSoup\n",
    "\n",
    "from bs4 import BeautifulSoup\n",
    "\n",
    "soup = BeautifulSoup(html, 'html.parser') : prend le code HTML ici nommé html\n",
    "soup.findall('h1') : prend tous le h1 du html\n",
    "soup.select('div h2') prend tous les h2 de div\n",
    "soup.select('div.block2 h2') : cherche les h2 dans toute les divs ayant la class block2\n",
    "\n",
    "...\n",
    "\n",
    "\n",
    "\n",
    "#SELENIUM\n",
    "\n",
    "from selenium import webdriver\n",
    "\n",
    "browser = webdriver.Firefox(executable_path = 'C:/Users/grego/Documents/geckodriver/geckodriver.exe') #geckodriver obligatoire\n",
    "browser.get('path')\n",
    "element = browser.find_element_by_class_name('class_name')\n",
    "element2 = browser.find_element_by_xpath('xpath')\n",
    "element.text\n",
    "element.click()"
   ]
  }
 ],
 "metadata": {
  "kernelspec": {
   "display_name": "Python 3",
   "language": "python",
   "name": "python3"
  },
  "language_info": {
   "codemirror_mode": {
    "name": "ipython",
    "version": 3
   },
   "file_extension": ".py",
   "mimetype": "text/x-python",
   "name": "python",
   "nbconvert_exporter": "python",
   "pygments_lexer": "ipython3",
   "version": "3.7.2"
  }
 },
 "nbformat": 4,
 "nbformat_minor": 2
}
